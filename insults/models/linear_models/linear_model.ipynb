{
 "cells": [
  {
   "cell_type": "code",
   "execution_count": 1,
   "metadata": {
    "collapsed": true,
    "deletable": true,
    "editable": true
   },
   "outputs": [],
   "source": [
    "%matplotlib inline"
   ]
  },
  {
   "cell_type": "code",
   "execution_count": 2,
   "metadata": {
    "collapsed": false,
    "deletable": true,
    "editable": true
   },
   "outputs": [],
   "source": [
    "import os\n",
    "import sys\n",
    "nb_dir = os.path.split(os.getcwd())[0]\n",
    "root_dir = os.path.join(os.path.dirname(os.path.dirname(nb_dir)))\n",
    "if root_dir not in sys.path:\n",
    "    sys.path.append(root_dir)"
   ]
  },
  {
   "cell_type": "code",
   "execution_count": 3,
   "metadata": {
    "collapsed": false
   },
   "outputs": [
    {
     "data": {
      "text/plain": [
       "['',\n",
       " '/Users/jbelotti/anaconda/envs/insults-new/lib/python27.zip',\n",
       " '/Users/jbelotti/anaconda/envs/insults-new/lib/python2.7',\n",
       " '/Users/jbelotti/anaconda/envs/insults-new/lib/python2.7/plat-darwin',\n",
       " '/Users/jbelotti/anaconda/envs/insults-new/lib/python2.7/plat-mac',\n",
       " '/Users/jbelotti/anaconda/envs/insults-new/lib/python2.7/plat-mac/lib-scriptpackages',\n",
       " '/Users/jbelotti/anaconda/envs/insults-new/lib/python2.7/lib-tk',\n",
       " '/Users/jbelotti/anaconda/envs/insults-new/lib/python2.7/lib-old',\n",
       " '/Users/jbelotti/anaconda/envs/insults-new/lib/python2.7/lib-dynload',\n",
       " '/Users/jbelotti/anaconda/envs/insults-new/lib/python2.7/site-packages',\n",
       " '/Users/jbelotti/anaconda/envs/insults-new/lib/python2.7/site-packages/setuptools-27.2.0-py2.7.egg',\n",
       " '/Users/jbelotti/anaconda/envs/insults-new/lib/python2.7/site-packages/IPython/extensions',\n",
       " '/Users/jbelotti/.ipython',\n",
       " '/Users/jbelotti/Code/thundergolfer/Insult']"
      ]
     },
     "execution_count": 3,
     "metadata": {},
     "output_type": "execute_result"
    }
   ],
   "source": [
    "sys.path"
   ]
  },
  {
   "cell_type": "code",
   "execution_count": 6,
   "metadata": {
    "collapsed": false,
    "deletable": true,
    "editable": true
   },
   "outputs": [],
   "source": [
    "import pandas as pd\n",
    "import numpy as np\n",
    "\n",
    "from insults.util import data_file\n",
    "import matplotlib.pyplot as plt\n",
    "from sklearn import linear_model"
   ]
  },
  {
   "cell_type": "code",
   "execution_count": 7,
   "metadata": {
    "collapsed": true,
    "deletable": true,
    "editable": true
   },
   "outputs": [],
   "source": [
    "df = pd.read_table(data_file('Inputs','train.csv'),sep=',')"
   ]
  },
  {
   "cell_type": "code",
   "execution_count": 8,
   "metadata": {
    "collapsed": false,
    "deletable": true,
    "editable": true
   },
   "outputs": [
    {
     "data": {
      "text/plain": [
       "Index([u'Insult', u'Date', u'Comment'], dtype='object')"
      ]
     },
     "execution_count": 8,
     "metadata": {},
     "output_type": "execute_result"
    }
   ],
   "source": [
    "df.columns"
   ]
  },
  {
   "cell_type": "markdown",
   "metadata": {
    "deletable": true,
    "editable": true
   },
   "source": [
    "### Feature Engineering"
   ]
  },
  {
   "cell_type": "markdown",
   "metadata": {
    "deletable": true,
    "editable": true
   },
   "source": [
    "This is going to be a really basic model to just have as a baseline to compare against more sophisticated models that SHOULD perform much better. \n",
    "\n",
    "This model will proceed from basic hypothesis: \n",
    "\n",
    "H: Comments which contains a relatively high number of curse words along with use of the word \"you\"/\"u\" are more likely to be insulting."
   ]
  },
  {
   "cell_type": "code",
   "execution_count": 9,
   "metadata": {
    "collapsed": true
   },
   "outputs": [],
   "source": [
    "from insults.word_lists.google_bad_words import bad_words"
   ]
  },
  {
   "cell_type": "code",
   "execution_count": 16,
   "metadata": {
    "collapsed": false,
    "deletable": true,
    "editable": true
   },
   "outputs": [],
   "source": [
    "comments = [c[1:-1] for c in df.Comment] # strip offleading and trailing '\"' chars\n",
    "\n",
    "def count_bad_words(comment):\n",
    "    count = 0\n",
    "    for w in comment.split():\n",
    "        if w.lower() in bad_words: count += 1\n",
    "    \n",
    "    return count\n",
    "\n",
    "\n",
    "def count_you(comment):\n",
    "    count = 0\n",
    "    for w in comment.split():\n",
    "        if w.lower() in set([\"you\", \"u\"]): count += 1\n",
    "            \n",
    "    return count\n",
    "\n",
    "num_bad_words = np.array([count_bad_words(comment) for comment in comments])\n",
    "num_yous = np.array([count_you(comment) for comment in comments])"
   ]
  },
  {
   "cell_type": "code",
   "execution_count": 23,
   "metadata": {
    "collapsed": false
   },
   "outputs": [
    {
     "data": {
      "text/plain": [
       "array([1, 0, 0, ..., 0, 0, 0])"
      ]
     },
     "execution_count": 23,
     "metadata": {},
     "output_type": "execute_result"
    }
   ],
   "source": [
    "X = np.column_stack((num_bad_words, num_yous))\n",
    "Y = np.array(df.Insult)\n"
   ]
  },
  {
   "cell_type": "code",
   "execution_count": 35,
   "metadata": {
    "collapsed": false
   },
   "outputs": [
    {
     "data": {
      "text/plain": [
       "LogisticRegression(C=100000.0, class_weight=None, dual=False,\n",
       "          fit_intercept=True, intercept_scaling=1, max_iter=1000,\n",
       "          multi_class='ovr', n_jobs=1, penalty='l2', random_state=None,\n",
       "          solver='liblinear', tol=0.0001, verbose=0, warm_start=False)"
      ]
     },
     "execution_count": 35,
     "metadata": {},
     "output_type": "execute_result"
    }
   ],
   "source": [
    "c = 1e5 # inverse of regularisation strength. smaller -> stronger\n",
    "\n",
    "logreg = linear_model.LogisticRegression(C=c, max_iter=1000)\n",
    "\n",
    "# we create an instance of Neighbours Classifier and fit the data.\n",
    "logreg.fit(X, Y)"
   ]
  },
  {
   "cell_type": "code",
   "execution_count": 33,
   "metadata": {
    "collapsed": false
   },
   "outputs": [
    {
     "data": {
      "image/png": "[encoded data removed]",
      "text/plain": [
       "<matplotlib.figure.Figure at 0x112d377d0>"
      ]
     },
     "metadata": {},
     "output_type": "display_data"
    }
   ],
   "source": [
    "h = .02  # step size in the mesh\n",
    "\n",
    "# Plot the decision boundary. For that, we will assign a color to each\n",
    "# point in the mesh [x_min, x_max]x[y_min, y_max].\n",
    "x_min, x_max = X[:, 0].min() - .5, X[:, 0].max() + .5\n",
    "y_min, y_max = X[:, 1].min() - .5, X[:, 1].max() + .5\n",
    "xx, yy = np.meshgrid(np.arange(x_min, x_max, h), np.arange(y_min, y_max, h))\n",
    "\n",
    "Z = logreg.predict(np.c_[xx.ravel(), yy.ravel()])\n",
    "\n",
    "# Put the result into a color plot\n",
    "Z = Z.reshape(xx.shape)\n",
    "plt.figure(1, figsize=(6, 5))\n",
    "plt.pcolormesh(xx, yy, Z, cmap=plt.cm.Paired)\n",
    "\n",
    "# Plot also the training points\n",
    "plt.scatter(X[:, 0], X[:, 1], c=Y, edgecolors='k', cmap=plt.cm.Paired)\n",
    "plt.xlabel('Bad words')\n",
    "plt.ylabel('Number of \"you\" or \"u\"')\n",
    "\n",
    "plt.xlim(xx.min(), xx.max())\n",
    "plt.ylim(yy.min(), yy.max())\n",
    "plt.xticks(())\n",
    "plt.yticks(())\n",
    "\n",
    "plt.show()"
   ]
  },
  {
   "cell_type": "code",
   "execution_count": null,
   "metadata": {
    "collapsed": true
   },
   "outputs": [],
   "source": []
  }
 ],
 "metadata": {
  "kernelspec": {
   "display_name": "Python 2",
   "language": "python",
   "name": "python2"
  },
  "language_info": {
   "codemirror_mode": {
    "name": "ipython",
    "version": 2
   },
   "file_extension": ".py",
   "mimetype": "text/x-python",
   "name": "python",
   "nbconvert_exporter": "python",
   "pygments_lexer": "ipython2",
   "version": "2.7.12"
  }
 },
 "nbformat": 4,
 "nbformat_minor": 2
}
