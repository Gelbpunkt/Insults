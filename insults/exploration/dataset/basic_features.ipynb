{
 "cells": [
  {
   "cell_type": "code",
   "execution_count": 24,
   "metadata": {
    "collapsed": true
   },
   "outputs": [],
   "source": [
    "%matplotlib inline"
   ]
  },
  {
   "cell_type": "code",
   "execution_count": 25,
   "metadata": {
    "collapsed": false,
    "deletable": true,
    "editable": true
   },
   "outputs": [],
   "source": [
    "import os\n",
    "import sys\n",
    "nb_dir = os.path.split(os.getcwd())[0]\n",
    "if nb_dir not in sys.path:\n",
    "    sys.path.append(nb_dir)\n",
    "    "
   ]
  },
  {
   "cell_type": "code",
   "execution_count": 26,
   "metadata": {
    "collapsed": true
   },
   "outputs": [],
   "source": [
    "import pandas as pd\n",
    "import numpy as np\n",
    "\n",
    "from util import data_file\n",
    "import seaborn as sns\n",
    "sns.set(color_codes=True)"
   ]
  },
  {
   "cell_type": "code",
   "execution_count": 27,
   "metadata": {
    "collapsed": false,
    "deletable": true,
    "editable": true
   },
   "outputs": [],
   "source": [
    "df = pd.read_table(data_file('Inputs','train.csv'),sep=',')"
   ]
  },
  {
   "cell_type": "code",
   "execution_count": 28,
   "metadata": {
    "collapsed": false,
    "deletable": true,
    "editable": true
   },
   "outputs": [
    {
     "data": {
      "text/plain": [
       "Index([u'Insult', u'Date', u'Comment'], dtype='object')"
      ]
     },
     "execution_count": 28,
     "metadata": {},
     "output_type": "execute_result"
    }
   ],
   "source": [
    "df.columns"
   ]
  },
  {
   "cell_type": "code",
   "execution_count": 64,
   "metadata": {
    "collapsed": false
   },
   "outputs": [
    {
     "name": "stdout",
     "output_type": "stream",
     "text": [
      "Number of comments is 3947\n",
      "Longest comment is 17803\n"
     ]
    },
    {
     "data": {
      "text/plain": [
       "<matplotlib.axes._subplots.AxesSubplot at 0x11ee3c450>"
      ]
     },
     "execution_count": 64,
     "metadata": {},
     "output_type": "execute_result"
    },
    {
     "data": {
      "image/png": "[encoded data removed]",
      "text/plain": [
       "<matplotlib.figure.Figure at 0x11f624610>"
      ]
     },
     "metadata": {},
     "output_type": "display_data"
    }
   ],
   "source": [
    "comments = [c[1:-1] for c in df.Comment] # strip offleading and trailing '\"' chars)\n",
    "comment_lengths = [len(c) for c in comments]\n",
    "print(\"Number of comments is \" + str(len(comment_lengths)))\n",
    "print(\"Longest comment is \" + str(max(comment_lengths)))\n",
    "\n",
    "# remove extremes\n",
    "n = 1 # num standard deviations\n",
    "comment_lengths = [x for x in comment_lengths if abs(x - np.mean(comment_lengths)) < np.std(comment_lengths) * n]\n",
    "\n",
    "sns.distplot(comment_lengths, bins=20, kde=False)"
   ]
  },
  {
   "cell_type": "markdown",
   "metadata": {},
   "source": [
    "This dataset seems to offer a lot of easy wins around the 0-50 character range, but there's also a very long tail with comments ranging up to 17,803 characters in length (!).\n",
    "\n",
    "Taking only those comments with length within 1 SD the max drops to ~630 characters, around 6-7 sentences long. Seems to demand the building of more complex representations of the document. eg. sentence embeddings, paragraph embeddings"
   ]
  },
  {
   "cell_type": "code",
   "execution_count": 30,
   "metadata": {
    "collapsed": false
   },
   "outputs": [],
   "source": [
    "from enchant.checker import SpellChecker"
   ]
  },
  {
   "cell_type": "markdown",
   "metadata": {},
   "source": [
    "#### How good is the spelling in these comments? "
   ]
  },
  {
   "cell_type": "code",
   "execution_count": 34,
   "metadata": {
    "collapsed": false
   },
   "outputs": [
    {
     "name": "stdout",
     "output_type": "stream",
     "text": [
      "0.135017394352\n"
     ]
    }
   ],
   "source": [
    "rate_of_misspellings = []\n",
    "\n",
    "for c in comments:\n",
    "    checker = SpellChecker()\n",
    "    checker.set_text(c)\n",
    "    num_misspellings = len([e.word for e in checker])\n",
    "    rate = num_misspellings / float(len(c.split(' ')))\n",
    "    rate_of_misspellings.append(rate)\n",
    "    \n",
    "ave_rate_of_misspelling = sum(rate_of_misspellings) / float(len(comments))\n",
    "print(ave_rate_of_misspelling)"
   ]
  },
  {
   "cell_type": "markdown",
   "metadata": {},
   "source": [
    "Need to check that this isn't being thrown off by some unicode code in the comments, but ~13.5% misspellings is kind of brutal. "
   ]
  },
  {
   "cell_type": "code",
   "execution_count": 67,
   "metadata": {
    "collapsed": false
   },
   "outputs": [
    {
     "name": "stdout",
     "output_type": "stream",
     "text": [
      "[('bitch', 54), ('bastard', 8), ('fuck', 155), ('cock', 7), ('douche', 2), ('piss', 10), ('shit', 102), ('asshole', 8), ('darn', 2), ('pussy', 15), ('damn', 18), ('crap', 21), ('dick', 39), ('fag', 2)]\n",
      "\n",
      "Total common swear words is 443\n"
     ]
    }
   ],
   "source": [
    "from collections import Counter\n",
    "\n",
    "# http://www.slate.com/blogs/lexicon_valley/2013/09/11/top_swear_words_most_popular_curse_words_on_facebook.html \n",
    "facebook_most_popular_swears = [\n",
    "    'shit', 'fuck', 'damn', 'bitch', 'crap', 'piss', 'dick', 'darn', 'cock', 'pussy', 'asshole', 'fag', \n",
    "    'bastard', 'slut', 'douche'\n",
    "]\n",
    "\n",
    "everything = []\n",
    "for c in comments:\n",
    "    everything += c.split()\n",
    "\n",
    "counts = Counter(everything)\n",
    "swear_counts = [count for count in counts.items() if count[0] in facebook_most_popular_swears]\n",
    "print(swear_counts)\n",
    "\n",
    "print(\"\\nTotal common swear words is \" + str(sum([elem[1] for elem in swear_counts])))"
   ]
  },
  {
   "cell_type": "markdown",
   "metadata": {},
   "source": [
    "Ok so there actually aren't a hell of a lot of swear words in this dataset. There's almost 4000 comments in the dataset which gives just over 1 *correctly spelled* and *common* swear word for every 10 comments. "
   ]
  },
  {
   "cell_type": "markdown",
   "metadata": {},
   "source": []
  }
 ],
 "metadata": {
  "kernelspec": {
   "display_name": "Python2 (insults)",
   "language": "python",
   "name": "testenv"
  },
  "language_info": {
   "codemirror_mode": {
    "name": "ipython",
    "version": 2
   },
   "file_extension": ".py",
   "mimetype": "text/x-python",
   "name": "python",
   "nbconvert_exporter": "python",
   "pygments_lexer": "ipython2",
   "version": "2.7.13"
  }
 },
 "nbformat": 4,
 "nbformat_minor": 2
}
